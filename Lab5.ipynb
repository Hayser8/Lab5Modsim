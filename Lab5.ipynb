{
 "cells": [
  {
   "cell_type": "markdown",
   "id": "f76e6191",
   "metadata": {},
   "source": [
    "# **Laboratorio 5 ModSim**\n",
    "- Joaquín Campos - 22155\n",
    "- Sofía García - 22210\n",
    "- Julio García Salas - 22076"
   ]
  },
  {
   "cell_type": "markdown",
   "id": "746306e4",
   "metadata": {},
   "source": [
    "## **Práctica**"
   ]
  },
  {
   "cell_type": "code",
   "execution_count": null,
   "id": "6cc82c15",
   "metadata": {},
   "outputs": [
    {
     "name": "stdout",
     "output_type": "stream",
     "text": [
      "Requirement already satisfied: networkx in c:\\users\\jjcam\\appdata\\local\\programs\\python\\python39\\lib\\site-packages (3.2.1)\n",
      "Requirement already satisfied: matplotlib in c:\\users\\jjcam\\appdata\\local\\programs\\python\\python39\\lib\\site-packages (3.9.4)\n",
      "Requirement already satisfied: numpy in c:\\users\\jjcam\\appdata\\local\\programs\\python\\python39\\lib\\site-packages (2.0.2)\n",
      "Requirement already satisfied: pandas in c:\\users\\jjcam\\appdata\\local\\programs\\python\\python39\\lib\\site-packages (2.3.2)\n",
      "Requirement already satisfied: contourpy>=1.0.1 in c:\\users\\jjcam\\appdata\\local\\programs\\python\\python39\\lib\\site-packages (from matplotlib) (1.3.0)\n",
      "Requirement already satisfied: cycler>=0.10 in c:\\users\\jjcam\\appdata\\local\\programs\\python\\python39\\lib\\site-packages (from matplotlib) (0.12.1)\n",
      "Requirement already satisfied: fonttools>=4.22.0 in c:\\users\\jjcam\\appdata\\local\\programs\\python\\python39\\lib\\site-packages (from matplotlib) (4.59.2)\n",
      "Requirement already satisfied: kiwisolver>=1.3.1 in c:\\users\\jjcam\\appdata\\local\\programs\\python\\python39\\lib\\site-packages (from matplotlib) (1.4.7)\n",
      "Requirement already satisfied: packaging>=20.0 in c:\\users\\jjcam\\appdata\\roaming\\python\\python39\\site-packages (from matplotlib) (25.0)\n",
      "Requirement already satisfied: pillow>=8 in c:\\users\\jjcam\\appdata\\local\\programs\\python\\python39\\lib\\site-packages (from matplotlib) (11.3.0)\n",
      "Requirement already satisfied: pyparsing>=2.3.1 in c:\\users\\jjcam\\appdata\\local\\programs\\python\\python39\\lib\\site-packages (from matplotlib) (3.2.3)\n",
      "Requirement already satisfied: python-dateutil>=2.7 in c:\\users\\jjcam\\appdata\\roaming\\python\\python39\\site-packages (from matplotlib) (2.9.0.post0)\n",
      "Requirement already satisfied: importlib-resources>=3.2.0 in c:\\users\\jjcam\\appdata\\local\\programs\\python\\python39\\lib\\site-packages (from matplotlib) (6.5.2)\n",
      "Requirement already satisfied: pytz>=2020.1 in c:\\users\\jjcam\\appdata\\local\\programs\\python\\python39\\lib\\site-packages (from pandas) (2025.2)\n",
      "Requirement already satisfied: tzdata>=2022.7 in c:\\users\\jjcam\\appdata\\local\\programs\\python\\python39\\lib\\site-packages (from pandas) (2025.2)\n",
      "Requirement already satisfied: zipp>=3.1.0 in c:\\users\\jjcam\\appdata\\roaming\\python\\python39\\site-packages (from importlib-resources>=3.2.0->matplotlib) (3.23.0)\n",
      "Requirement already satisfied: six>=1.5 in c:\\users\\jjcam\\appdata\\roaming\\python\\python39\\site-packages (from python-dateutil>=2.7->matplotlib) (1.17.0)\n"
     ]
    }
   ],
   "source": [
    "# !pip install networkx matplotlib numpy pandas\n"
   ]
  },
  {
   "cell_type": "code",
   "execution_count": null,
   "id": "2b85e92a",
   "metadata": {},
   "outputs": [],
   "source": [
    "# Redes Scale-Free (BA) vs Aleatoria (ER)\n",
    "\n",
    "import math\n",
    "import random\n",
    "import numpy as np\n",
    "import pandas as pd\n",
    "import networkx as nx\n",
    "import matplotlib.pyplot as plt\n",
    "\n",
    "SEED = 42\n",
    "random.seed(SEED)\n",
    "np.random.seed(SEED)\n",
    "\n",
    "def degrees_array(G: nx.Graph):\n",
    "    return np.array([d for _, d in G.degree()], dtype=float)\n",
    "\n",
    "def gini_coefficient(x: np.ndarray) -> float:\n",
    "    \"\"\"Gini (0 = igualdad perfecta, 1 = desigualdad máxima).\"\"\"\n",
    "    if len(x) == 0:\n",
    "        return float('nan')\n",
    "    x = np.sort(x)\n",
    "    if np.all(x == 0):\n",
    "        return 0.0\n",
    "    n = len(x)\n",
    "    cumx = np.cumsum(x)\n",
    "    return (n + 1 - 2 * (cumx.sum() / cumx[-1])) / n\n",
    "\n",
    "def ccdf(values: np.ndarray):\n",
    "    \"\"\"CCDF P(X >= x) para valores no negativos. Retorna (xs, ccdf_vals).\"\"\"\n",
    "    vals = np.asarray(values)\n",
    "    vals = vals[vals >= 0]\n",
    "    xs = np.unique(vals)\n",
    "    ccdf_vals = np.array([np.mean(vals >= x) for x in xs], dtype=float)\n",
    "    return xs, ccdf_vals\n",
    "\n",
    "def giant_component_subgraph(G: nx.Graph) -> nx.Graph:\n",
    "    \"\"\"Extrae el subgrafo de la componente conexa gigante (GCC).\"\"\"\n",
    "    if G.number_of_nodes() == 0:\n",
    "        return G.copy()\n",
    "    comps = list(nx.connected_components(G))\n",
    "    largest = max(comps, key=len) if comps else set()\n",
    "    return G.subgraph(largest).copy()\n"
   ]
  },
  {
   "cell_type": "markdown",
   "id": "576c7bb0",
   "metadata": {},
   "source": [
    "## **Teoría**"
   ]
  },
  {
   "cell_type": "markdown",
   "id": "4efba7ca",
   "metadata": {},
   "source": [
    "# Redes libres de escala vs. redes aleatorias \n",
    "\n",
    "## 1) Rasgo definitorio y por qué obliga a ir más allá del promedio\n",
    "\n",
    "La característica más definitoria de una red libre de escala es que su **distribución de grados** sigue una **ley de potencia**:\n",
    "  \n",
    "- $$P(k) \\propto k^{-\\gamma}, \\quad k \\ge k_{\\min}$$\n",
    "\n",
    "En contraste, una red Erdős–Rényi (ER) tiene una distribución de grados **(aprox.) Poisson**, estrecha alrededor de la media:\n",
    "\n",
    "- $$P(k) \\approx \\frac{e^{-\\langle k\\rangle}\\langle k\\rangle^{k}}{k!}$$\n",
    "\n",
    "**Implicación clave:** en redes libres de escala aparece **heterogeneidad extrema** (hubs). Por eso, los modelos basados **sólo en promedios** (p. ej., SIR “mean-field” clásico que usa únicamente $\\langle k\\rangle$) **no capturan** la dinámica real. En estas redes, los **momentos superiores** importan (especialmente $\\langle k^2\\rangle$). De hecho, para $2<\\gamma\\le 3$ la **varianza** $\\mathrm{Var}(k)$ puede crecer sin cota con el tamaño de la red, cambiando el **umbral epidémico** y la **intensidad de brotes**. En resumen: debo modelar la **heterogeneidad de grados**, no sólo el promedio.\n",
    "\n",
    "---\n",
    "\n",
    "## 2) Efecto de un $\\gamma$ menor (p. ej., $2.1$ vs $3.5$)\n",
    "\n",
    "Un $\\gamma$ menor implica una **cola más pesada**:\n",
    "\n",
    "- **Mayor prevalencia de hubs** (nodos con grado muy alto).\n",
    "- $\\langle k^2\\rangle$ crece mucho; para $2<\\gamma\\le 3$, incluso **puede divergir** con $N$.\n",
    "- En la práctica: con $\\gamma=2.1$ espero **muchos** nodos altamente conectados; con $\\gamma=3.5$ la cola decae más rápido y los hubs extremos son más raros.\n",
    "\n",
    "---\n",
    "\n",
    "## 3) Por qué $R_0$ depende de la **varianza** (no sólo de la media)\n",
    "\n",
    "En redes con heterogeneidad de grados (p. ej., configuration model), el número reproductivo básico está controlado por la razón entre el **segundo momento** y el **primero**:\n",
    "\n",
    "- $$R_0 \\;\\approx\\; T \\cdot \\frac{\\langle k^2\\rangle - \\langle k\\rangle}{\\langle k\\rangle} \\quad\\Longleftrightarrow\\quad \\lambda_c \\;=\\; \\frac{\\langle k\\rangle}{\\langle k^2\\rangle}$$\n",
    "\n",
    "donde $T$ es la transmisibilidad por arista y $\\lambda_c$ el **umbral epidémico** efectivo.\n",
    "\n",
    "**Intuición:** la infección “ve” grados altos porque llega por aristas; la probabilidad de aterrizar en un nodo de grado $k$ es $\\propto k\\,P(k)$. Esa ponderación **eleva** el peso de nodos con grados grandes, introduciendo $\\langle k^2\\rangle$ y, por ende, la **varianza**. Si $\\langle k^2\\rangle$ es grande (o diverge), $R_0$ **aumenta** y el umbral $\\lambda_c$ **tiende a 0**: casi cualquier transmisibilidad sostiene brotes.\n",
    "\n",
    "---\n",
    "\n",
    "## 4) Intervenciones **dirigidas** en redes sin escala: por qué son tan eficaces\n",
    "\n",
    "### (a) Perspectiva matemática\n",
    "\n",
    "- El umbral epidémico depende de $$\\lambda_c = \\frac{\\langle k\\rangle}{\\langle k^2\\rangle}.$$\n",
    "- **Proteger/remover hubs** (vacunar, testear, mascarillas focalizadas, limitar contactos) **reduce drásticamente $\\langle k^2\\rangle$** (mucho más que $\\langle k\\rangle$), **elevando $\\lambda_c$** y pudiendo volver la propagación **subcrítica** sin intervenir masivamente.\n",
    "- En ER (distribución estrecha), “apuntar” a grados altos es **casi equivalente a aleatorio** (no hay outliers grandes), por lo que la ganancia marginal es menor.\n",
    "\n",
    "### (b) Perspectiva práctica\n",
    "\n",
    "- En redes sin escala, **pocos hubs concentran muchas rutas** de transmisión. Focalizar recursos en esos centros:\n",
    "  - **Corta** múltiples trayectorias de contagio de una sola vez.\n",
    "  - Es **eficiente** en costos (menos individuos intervenidos para gran impacto).\n",
    "- En redes ER no existen cuellos de botella comparables; el mismo esfuerzo **difuso** rinde menos.\n"
   ]
  }
 ],
 "metadata": {
  "kernelspec": {
   "display_name": "Python 3",
   "language": "python",
   "name": "python3"
  },
  "language_info": {
   "codemirror_mode": {
    "name": "ipython",
    "version": 3
   },
   "file_extension": ".py",
   "mimetype": "text/x-python",
   "name": "python",
   "nbconvert_exporter": "python",
   "pygments_lexer": "ipython3",
   "version": "3.12.2"
  }
 },
 "nbformat": 4,
 "nbformat_minor": 5
}
