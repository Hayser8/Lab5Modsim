{
 "cells": [
  {
   "cell_type": "markdown",
   "id": "f76e6191",
   "metadata": {},
   "source": [
    "# **Laboratorio 5 ModSim**\n",
    "- Joaquín Campos - 22155\n",
    "- Sofía García - 22210\n",
    "- Julio García Salas - 22076"
   ]
  },
  {
   "cell_type": "markdown",
   "id": "576c7bb0",
   "metadata": {},
   "source": [
    "## **Teoría**"
   ]
  },
  {
   "cell_type": "markdown",
   "id": "4efba7ca",
   "metadata": {},
   "source": [
    "# Redes libres de escala vs. redes aleatorias \n",
    "\n",
    "## 1) Rasgo definitorio y por qué obliga a ir más allá del promedio\n",
    "\n",
    "La característica más definitoria de una red libre de escala es que su **distribución de grados** sigue una **ley de potencia**:\n",
    "  \n",
    "- $$P(k) \\propto k^{-\\gamma}, \\quad k \\ge k_{\\min}$$\n",
    "\n",
    "En contraste, una red Erdős–Rényi (ER) tiene una distribución de grados **(aprox.) Poisson**, estrecha alrededor de la media:\n",
    "\n",
    "- $$P(k) \\approx \\frac{e^{-\\langle k\\rangle}\\langle k\\rangle^{k}}{k!}$$\n",
    "\n",
    "**Implicación clave:** en redes libres de escala aparece **heterogeneidad extrema** (hubs). Por eso, los modelos basados **sólo en promedios** (p. ej., SIR “mean-field” clásico que usa únicamente $\\langle k\\rangle$) **no capturan** la dinámica real. En estas redes, los **momentos superiores** importan (especialmente $\\langle k^2\\rangle$). De hecho, para $2<\\gamma\\le 3$ la **varianza** $\\mathrm{Var}(k)$ puede crecer sin cota con el tamaño de la red, cambiando el **umbral epidémico** y la **intensidad de brotes**. En resumen: debo modelar la **heterogeneidad de grados**, no sólo el promedio.\n",
    "\n",
    "---\n",
    "\n",
    "## 2) Efecto de un $\\gamma$ menor (p. ej., $2.1$ vs $3.5$)\n",
    "\n",
    "Un $\\gamma$ menor implica una **cola más pesada**:\n",
    "\n",
    "- **Mayor prevalencia de hubs** (nodos con grado muy alto).\n",
    "- $\\langle k^2\\rangle$ crece mucho; para $2<\\gamma\\le 3$, incluso **puede divergir** con $N$.\n",
    "- En la práctica: con $\\gamma=2.1$ espero **muchos** nodos altamente conectados; con $\\gamma=3.5$ la cola decae más rápido y los hubs extremos son más raros.\n",
    "\n",
    "---\n",
    "\n",
    "## 3) Por qué $R_0$ depende de la **varianza** (no sólo de la media)\n",
    "\n",
    "En redes con heterogeneidad de grados (p. ej., configuration model), el número reproductivo básico está controlado por la razón entre el **segundo momento** y el **primero**:\n",
    "\n",
    "- $$R_0 \\;\\approx\\; T \\cdot \\frac{\\langle k^2\\rangle - \\langle k\\rangle}{\\langle k\\rangle} \\quad\\Longleftrightarrow\\quad \\lambda_c \\;=\\; \\frac{\\langle k\\rangle}{\\langle k^2\\rangle}$$\n",
    "\n",
    "donde $T$ es la transmisibilidad por arista y $\\lambda_c$ el **umbral epidémico** efectivo.\n",
    "\n",
    "**Intuición:** la infección “ve” grados altos porque llega por aristas; la probabilidad de aterrizar en un nodo de grado $k$ es $\\propto k\\,P(k)$. Esa ponderación **eleva** el peso de nodos con grados grandes, introduciendo $\\langle k^2\\rangle$ y, por ende, la **varianza**. Si $\\langle k^2\\rangle$ es grande (o diverge), $R_0$ **aumenta** y el umbral $\\lambda_c$ **tiende a 0**: casi cualquier transmisibilidad sostiene brotes.\n",
    "\n",
    "---\n",
    "\n",
    "## 4) Intervenciones **dirigidas** en redes sin escala: por qué son tan eficaces\n",
    "\n",
    "### (a) Perspectiva matemática\n",
    "\n",
    "- El umbral epidémico depende de $$\\lambda_c = \\frac{\\langle k\\rangle}{\\langle k^2\\rangle}.$$\n",
    "- **Proteger/remover hubs** (vacunar, testear, mascarillas focalizadas, limitar contactos) **reduce drásticamente $\\langle k^2\\rangle$** (mucho más que $\\langle k\\rangle$), **elevando $\\lambda_c$** y pudiendo volver la propagación **subcrítica** sin intervenir masivamente.\n",
    "- En ER (distribución estrecha), “apuntar” a grados altos es **casi equivalente a aleatorio** (no hay outliers grandes), por lo que la ganancia marginal es menor.\n",
    "\n",
    "### (b) Perspectiva práctica\n",
    "\n",
    "- En redes sin escala, **pocos hubs concentran muchas rutas** de transmisión. Focalizar recursos en esos centros:\n",
    "  - **Corta** múltiples trayectorias de contagio de una sola vez.\n",
    "  - Es **eficiente** en costos (menos individuos intervenidos para gran impacto).\n",
    "- En redes ER no existen cuellos de botella comparables; el mismo esfuerzo **difuso** rinde menos.\n"
   ]
  }
 ],
 "metadata": {
  "language_info": {
   "name": "python"
  }
 },
 "nbformat": 4,
 "nbformat_minor": 5
}
